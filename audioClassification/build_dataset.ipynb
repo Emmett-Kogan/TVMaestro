{
 "cells": [
  {
   "cell_type": "code",
   "execution_count": 1,
   "id": "eec86743-dbc4-49b5-a1e1-94e1db1a09ea",
   "metadata": {},
   "outputs": [],
   "source": [
    "##split audio transcription into sentences\n",
    "\n",
    "import pandas as pd\n",
    "import re\n",
    "\n",
    "def getSentences(filepath):\n",
    "    with open(filepath, 'r', encoding='utf-8') as f:\n",
    "        lines = f.readlines()\n",
    "        sentences = []\n",
    "        for line in lines:\n",
    "            sentences_in_line = re.split(r'[.!?]', line)\n",
    "            for sentence in sentences_in_line:\n",
    "                if sentence:\n",
    "                    sentences.append(sentence.strip())\n",
    "    return sentences\n"
   ]
  },
  {
   "cell_type": "code",
   "execution_count": 3,
   "id": "7a4ba646-b577-4e98-8d0f-30df484eff79",
   "metadata": {},
   "outputs": [],
   "source": [
    "sentences = getSentences('textFiles/Ads/firstTakeAds.txt')\n",
    "sentences += getSentences('textFiles/Ads/friendsAds.txt')\n",
    "sentences += getSentences('textFiles/Ads/foxNewsAds.txt')\n",
    "sentences += getSentences('textFiles/Ads/golfAds.txt')\n",
    "sentences += getSentences('textFiles/Ads/heatVKnicksAds.txt')\n",
    "sentences += getSentences('textFiles/Ads/NCISAds.txt')\n",
    "sentences += getSentences('textFiles/Ads/southParkAds.txt')\n",
    "sentences += getSentences('textFiles/Ads/adamSandlerAds.txt')\n",
    "sentences += getSentences('textFiles/Ads/cnnAds.txt')\n",
    "sentences += getSentences('textFiles/Ads/modernFamilyAds.txt')\n",
    "sentences += getSentences('textFiles/Ads/simpsonsAds.txt')\n",
    "\n",
    "df_ads = pd.DataFrame({'sentences': sentences})\n",
    "\n",
    "df_ads['ads'] = 1\n",
    "\n",
    "non_ad_sentences = getSentences('textFiles/notAds/firstTakeNotAds.txt')\n",
    "non_ad_sentences += getSentences('textFiles/notAds/friendsNotAds.txt')\n",
    "non_ad_sentences += getSentences('textFiles/notAds/foxNewsNotAds.txt')\n",
    "non_ad_sentences += getSentences('textFiles/notAds/golfNotAds.txt')\n",
    "non_ad_sentences += getSentences('textFiles/notAds/heatVKnicksNotAds.txt')\n",
    "non_ad_sentences += getSentences('textFiles/notAds/NCISNotAds.txt')\n",
    "non_ad_sentences += getSentences('textFiles/notAds/southParkNotAds.txt')\n",
    "non_ad_sentences += getSentences('textFiles/notAds/adamSandlerNotAds.txt')\n",
    "non_ad_sentences += getSentences('textFiles/notAds/cnnNotAds.txt')\n",
    "non_ad_sentences += getSentences('textFiles/notAds/modernFamilyNotAds.txt')\n",
    "non_ad_sentences += getSentences('textFiles/notAds/simpsonsNotAds.txt')\n",
    "\n",
    "df_non_ads = pd.DataFrame({'sentences': non_ad_sentences, 'ads': 0} )\n",
    "\n",
    "df = pd.concat([df_ads, df_non_ads], ignore_index = True)\n",
    "\n",
    "\n",
    "\n",
    "df.to_csv('bigger_ads_refined_dataset.csv', index=False)\n"
   ]
  },
  {
   "cell_type": "code",
   "execution_count": null,
   "id": "fc48a99e-f0c2-4c1a-86be-dac759fe14e2",
   "metadata": {},
   "outputs": [],
   "source": []
  }
 ],
 "metadata": {
  "kernelspec": {
   "display_name": "Python 3 (ipykernel)",
   "language": "python",
   "name": "python3"
  },
  "language_info": {
   "codemirror_mode": {
    "name": "ipython",
    "version": 3
   },
   "file_extension": ".py",
   "mimetype": "text/x-python",
   "name": "python",
   "nbconvert_exporter": "python",
   "pygments_lexer": "ipython3",
   "version": "3.11.4"
  }
 },
 "nbformat": 4,
 "nbformat_minor": 5
}
