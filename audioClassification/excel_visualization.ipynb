{
 "cells": [
  {
   "cell_type": "code",
   "execution_count": 2,
   "id": "e63d7d8f-b81b-4f25-b3cc-5c2a036cb912",
   "metadata": {},
   "outputs": [
    {
     "name": "stderr",
     "output_type": "stream",
     "text": [
      "\n",
      "[notice] A new release of pip is available: 23.3.1 -> 24.0\n",
      "[notice] To update, run: python.exe -m pip install --upgrade pip\n"
     ]
    },
    {
     "name": "stdout",
     "output_type": "stream",
     "text": [
      "Requirement already satisfied: openpyxl in c:\\python311\\lib\\site-packages (3.1.2)\n",
      "Requirement already satisfied: et-xmlfile in c:\\python311\\lib\\site-packages (from openpyxl) (1.1.0)\n"
     ]
    },
    {
     "name": "stderr",
     "output_type": "stream",
     "text": [
      "C:\\Python311\\Lib\\site-packages\\tqdm\\auto.py:21: TqdmWarning: IProgress not found. Please update jupyter and ipywidgets. See https://ipywidgets.readthedocs.io/en/stable/user_install.html\n",
      "  from .autonotebook import tqdm as notebook_tqdm\n",
      "C:\\Python311\\Lib\\site-packages\\torch\\_utils.py:831: UserWarning: TypedStorage is deprecated. It will be removed in the future and UntypedStorage will be the only storage class. This should only matter to you if you are using storages directly.  To access UntypedStorage directly, use tensor.untyped_storage() instead of tensor.storage()\n",
      "  return self.fget.__get__(instance, owner)()\n"
     ]
    }
   ],
   "source": [
    "!pip install openpyxl\n",
    "import pandas as pd\n",
    "import numpy as np\n",
    "from sklearn.linear_model import LogisticRegression\n",
    "from sklearn import metrics\n",
    "from joblib import dump, load\n",
    "\n",
    "from sentence_transformers import SentenceTransformer\n",
    "model = SentenceTransformer('all-MiniLM-L6-v2')"
   ]
  },
  {
   "cell_type": "code",
   "execution_count": 3,
   "id": "48426d2f-1a36-480d-a520-4fdf0e5ce136",
   "metadata": {},
   "outputs": [],
   "source": [
    "svm = load('SVM_big_dataset.joblib')"
   ]
  },
  {
   "cell_type": "code",
   "execution_count": 19,
   "id": "2a1fd01c-e37f-4d0e-b6ab-e104b37f8627",
   "metadata": {},
   "outputs": [],
   "source": [
    "data = pd.read_csv('walkingDead.csv')\n",
    "data.dropna(subset=['sentences'], inplace=True)"
   ]
  },
  {
   "cell_type": "code",
   "execution_count": 5,
   "id": "544e2cf4-520f-4e17-a693-9878180e9552",
   "metadata": {},
   "outputs": [],
   "source": [
    "import spacy\n",
    "import string\n",
    "nlp = spacy.load(\"en_core_web_sm\")\n",
    "stop_words = nlp.Defaults.stop_words\n",
    "punctuations = string.punctuation"
   ]
  },
  {
   "cell_type": "code",
   "execution_count": 6,
   "id": "096c5a14-7efc-49a2-8fb0-21a7f19d0076",
   "metadata": {},
   "outputs": [],
   "source": [
    "def spacy_tokenizer(sentence):\n",
    "    if pd.isna(sentence):\n",
    "        return\n",
    "    else:\n",
    "        doc = nlp(sentence)\n",
    "        mytokens = [ word.lemma_.lower().strip() for word in doc ] \n",
    "        mytokens = [ word for word in mytokens if word not in punctuations ] \n",
    "        sentence = \" \".join(mytokens) # return preprocessed list of tokens return sentence\n",
    "        return sentence"
   ]
  },
  {
   "cell_type": "code",
   "execution_count": 20,
   "id": "6bbda33f-8466-4d5f-ba37-04f3d32e6e69",
   "metadata": {},
   "outputs": [
    {
     "name": "stdout",
     "output_type": "stream",
     "text": [
      "977\n"
     ]
    }
   ],
   "source": [
    "data['tokenize'] = data['sentences'].apply(spacy_tokenizer)\n",
    "print(len(data['tokenize']))"
   ]
  },
  {
   "cell_type": "code",
   "execution_count": 21,
   "id": "21ce4348-b2d6-490f-b64b-32d66090d048",
   "metadata": {},
   "outputs": [],
   "source": [
    "data['embeddings'] = data['tokenize'].apply(model.encode)"
   ]
  },
  {
   "cell_type": "code",
   "execution_count": 24,
   "id": "51d5bb33-09c0-415d-8ea4-e2372835f688",
   "metadata": {},
   "outputs": [],
   "source": [
    "import openpyxl\n",
    "from openpyxl.styles import PatternFill\n",
    "X = data['embeddings'].to_list()\n",
    "predicted = svm.predict(X)\n",
    "data['predicted'] = predicted"
   ]
  },
  {
   "cell_type": "code",
   "execution_count": 25,
   "id": "069776f3-fe89-47bf-aac2-425fd781ad0d",
   "metadata": {},
   "outputs": [],
   "source": [
    "data.to_excel('walkingDeadPredictions.xlsx', index=False)"
   ]
  },
  {
   "cell_type": "code",
   "execution_count": 26,
   "id": "58849837-5da2-47e5-817f-4067cdc4d87e",
   "metadata": {},
   "outputs": [],
   "source": [
    "wb = openpyxl.load_workbook('walkingDeadPredictions.xlsx')\n",
    "ws = wb.active\n",
    "\n",
    "predicted_column_index = data.columns.get_loc('predicted') + 1\n",
    "# Set red color fill for cells where predicted value is 1\n",
    "for i, value in enumerate(predicted, start=2):\n",
    "    cell = ws.cell(row=i, column=predicted_column_index)\n",
    "    if value == 1:\n",
    "        cell.fill = PatternFill(start_color='FF0000', end_color='FF0000', fill_type='solid')\n",
    "\n",
    "wb.save('walkingDeadPredictions.xlsx')"
   ]
  },
  {
   "cell_type": "code",
   "execution_count": null,
   "id": "749d37bd-ea4e-4f0e-84d5-55ab11509743",
   "metadata": {},
   "outputs": [],
   "source": []
  }
 ],
 "metadata": {
  "kernelspec": {
   "display_name": "Python 3 (ipykernel)",
   "language": "python",
   "name": "python3"
  },
  "language_info": {
   "codemirror_mode": {
    "name": "ipython",
    "version": 3
   },
   "file_extension": ".py",
   "mimetype": "text/x-python",
   "name": "python",
   "nbconvert_exporter": "python",
   "pygments_lexer": "ipython3",
   "version": "3.11.4"
  }
 },
 "nbformat": 4,
 "nbformat_minor": 5
}
