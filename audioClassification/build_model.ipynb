{
 "cells": [
  {
   "cell_type": "code",
   "execution_count": 1,
   "id": "b326b368-d299-4207-bdb1-83596824d369",
   "metadata": {},
   "outputs": [
    {
     "name": "stderr",
     "output_type": "stream",
     "text": [
      "C:\\Python311\\Lib\\site-packages\\tqdm\\auto.py:21: TqdmWarning: IProgress not found. Please update jupyter and ipywidgets. See https://ipywidgets.readthedocs.io/en/stable/user_install.html\n",
      "  from .autonotebook import tqdm as notebook_tqdm\n",
      "C:\\Python311\\Lib\\site-packages\\torch\\_utils.py:831: UserWarning: TypedStorage is deprecated. It will be removed in the future and UntypedStorage will be the only storage class. This should only matter to you if you are using storages directly.  To access UntypedStorage directly, use tensor.untyped_storage() instead of tensor.storage()\n",
      "  return self.fget.__get__(instance, owner)()\n"
     ]
    }
   ],
   "source": [
    "\n",
    "## credit to PradipNichite https://github.com/PradipNichite/Youtube-Tutorials/blob/main/Youtube_Text_Classification_using_sentence_embedding_.ipynb\n",
    "import pandas as pd\n",
    "import numpy as np\n",
    "np.random.seed(2024)\n",
    "     \n",
    "\n",
    "from sentence_transformers import SentenceTransformer\n",
    "model = SentenceTransformer('all-MiniLM-L6-v2')\n",
    "     \n"
   ]
  },
  {
   "cell_type": "code",
   "execution_count": 39,
   "id": "69999cef-c97c-4d89-a2f8-6ea2fd1201dd",
   "metadata": {},
   "outputs": [],
   "source": [
    "data = pd.read_csv('bigger_ads_dataset.csv')\n",
    "data.dropna(subset=['sentences'], inplace=True)\n"
   ]
  },
  {
   "cell_type": "code",
   "execution_count": 3,
   "id": "0fcc1796-a15e-4cf1-9ef2-01278d4bb615",
   "metadata": {},
   "outputs": [],
   "source": [
    "import spacy\n",
    "import string\n",
    "nlp = spacy.load(\"en_core_web_sm\")\n",
    "stop_words = nlp.Defaults.stop_words\n",
    "punctuations = string.punctuation"
   ]
  },
  {
   "cell_type": "code",
   "execution_count": 40,
   "id": "f9e45afe-6017-4f13-9495-9d95c87dbd64",
   "metadata": {},
   "outputs": [
    {
     "name": "stdout",
     "output_type": "stream",
     "text": [
      "['sentences', 'ads']\n",
      "0        You'll never guess what we're doing to the Bac...\n",
      "1                        We're putting it on the Baconator\n",
      "2                               Katherine, you seeing this\n",
      "3                                      Postures everywhere\n",
      "4                                                     What\n",
      "                               ...                        \n",
      "18166    All the other kids are at something called the...\n",
      "18167                                       I'm sorry gang\n",
      "18168                                            I blew up\n",
      "18169              I hate it when grown-ups call kids gang\n",
      "18170                            Don't worry about it, Mom\n",
      "Name: sentences, Length: 18165, dtype: object\n"
     ]
    }
   ],
   "source": [
    "cols = list(data.columns.values)\n",
    "print(cols)\n",
    "print(data['sentences'])"
   ]
  },
  {
   "cell_type": "code",
   "execution_count": 28,
   "id": "8756293b-427a-4ed6-896c-e61a434ba0eb",
   "metadata": {},
   "outputs": [],
   "source": [
    "def spacy_tokenizer(sentence):\n",
    "    if pd.isna(sentence):\n",
    "        return\n",
    "    else:\n",
    "        doc = nlp(sentence)\n",
    "        mytokens = [ word.lemma_.lower().strip() for word in doc ] \n",
    "        mytokens = [ word for word in mytokens if word not in punctuations ] \n",
    "        sentence = \" \".join(mytokens) # return preprocessed list of tokens return sentence\n",
    "        return sentence"
   ]
  },
  {
   "cell_type": "code",
   "execution_count": 41,
   "id": "14bb6f6c-0201-44d5-9a42-ba01686deb90",
   "metadata": {},
   "outputs": [],
   "source": [
    "data['tokenize'] = data['sentences'].apply(spacy_tokenizer)"
   ]
  },
  {
   "cell_type": "code",
   "execution_count": 42,
   "id": "d3ddf9a6-57ff-4899-9e1f-2febfa5bce65",
   "metadata": {},
   "outputs": [
    {
     "name": "stdout",
     "output_type": "stream",
     "text": [
      "18165\n"
     ]
    }
   ],
   "source": [
    "print(len(data['tokenize']))"
   ]
  },
  {
   "cell_type": "code",
   "execution_count": 43,
   "id": "049ed616-8899-47ce-982d-9879b21992a3",
   "metadata": {},
   "outputs": [],
   "source": [
    "data['embeddings'] = data['tokenize'].apply(model.encode)"
   ]
  },
  {
   "cell_type": "code",
   "execution_count": 44,
   "id": "2deeaecb-02ed-47b4-ab47-37c4c57ecda8",
   "metadata": {},
   "outputs": [
    {
     "name": "stdout",
     "output_type": "stream",
     "text": [
      "0        [-0.043664698, 0.014645079, 0.060612295, -0.00...\n",
      "1        [-0.06298281, 0.03659228, 0.013885124, -0.0020...\n",
      "2        [-0.0006743414, -0.012383045, 0.05902087, 0.02...\n",
      "3        [0.006550763, 0.023429932, -0.004073272, -0.02...\n",
      "4        [-0.105645, 0.0765896, -0.05577093, -0.0026801...\n",
      "                               ...                        \n",
      "18166    [0.003767649, 0.026861528, -0.015800757, -0.10...\n",
      "18167    [-0.024565972, 0.026038438, 0.0015804166, -0.0...\n",
      "18168    [-0.034687307, -0.0020050304, 0.005607404, -0....\n",
      "18169    [-0.06114863, 0.029292548, -0.030165982, -0.04...\n",
      "18170    [0.03657346, 0.020573333, 0.013142387, -0.0135...\n",
      "Name: embeddings, Length: 18165, dtype: object\n"
     ]
    }
   ],
   "source": [
    "print(data['embeddings'])"
   ]
  },
  {
   "cell_type": "code",
   "execution_count": 45,
   "id": "5cea812b-a803-4b85-9787-5f7e97f38762",
   "metadata": {},
   "outputs": [],
   "source": [
    "X = data['embeddings'].to_list() \n",
    "Y = data['ads'].to_list()"
   ]
  },
  {
   "cell_type": "code",
   "execution_count": 11,
   "id": "6a531165-359b-49ed-a03f-c2d7bd756e80",
   "metadata": {},
   "outputs": [],
   "source": [
    "from sklearn.model_selection import train_test_split"
   ]
  },
  {
   "cell_type": "code",
   "execution_count": 46,
   "id": "1a53c940-08ca-446f-b71f-09cde2ca4def",
   "metadata": {},
   "outputs": [],
   "source": [
    "X_train, X_test, Y_train, Y_test = train_test_split(X, Y, test_size=0.2,stratify=Y)"
   ]
  },
  {
   "cell_type": "code",
   "execution_count": 54,
   "id": "8d16cb94-0828-4d4e-b5bb-bc90096d8854",
   "metadata": {},
   "outputs": [
    {
     "data": {
      "text/html": [
       "<style>#sk-container-id-7 {color: black;}#sk-container-id-7 pre{padding: 0;}#sk-container-id-7 div.sk-toggleable {background-color: white;}#sk-container-id-7 label.sk-toggleable__label {cursor: pointer;display: block;width: 100%;margin-bottom: 0;padding: 0.3em;box-sizing: border-box;text-align: center;}#sk-container-id-7 label.sk-toggleable__label-arrow:before {content: \"▸\";float: left;margin-right: 0.25em;color: #696969;}#sk-container-id-7 label.sk-toggleable__label-arrow:hover:before {color: black;}#sk-container-id-7 div.sk-estimator:hover label.sk-toggleable__label-arrow:before {color: black;}#sk-container-id-7 div.sk-toggleable__content {max-height: 0;max-width: 0;overflow: hidden;text-align: left;background-color: #f0f8ff;}#sk-container-id-7 div.sk-toggleable__content pre {margin: 0.2em;color: black;border-radius: 0.25em;background-color: #f0f8ff;}#sk-container-id-7 input.sk-toggleable__control:checked~div.sk-toggleable__content {max-height: 200px;max-width: 100%;overflow: auto;}#sk-container-id-7 input.sk-toggleable__control:checked~label.sk-toggleable__label-arrow:before {content: \"▾\";}#sk-container-id-7 div.sk-estimator input.sk-toggleable__control:checked~label.sk-toggleable__label {background-color: #d4ebff;}#sk-container-id-7 div.sk-label input.sk-toggleable__control:checked~label.sk-toggleable__label {background-color: #d4ebff;}#sk-container-id-7 input.sk-hidden--visually {border: 0;clip: rect(1px 1px 1px 1px);clip: rect(1px, 1px, 1px, 1px);height: 1px;margin: -1px;overflow: hidden;padding: 0;position: absolute;width: 1px;}#sk-container-id-7 div.sk-estimator {font-family: monospace;background-color: #f0f8ff;border: 1px dotted black;border-radius: 0.25em;box-sizing: border-box;margin-bottom: 0.5em;}#sk-container-id-7 div.sk-estimator:hover {background-color: #d4ebff;}#sk-container-id-7 div.sk-parallel-item::after {content: \"\";width: 100%;border-bottom: 1px solid gray;flex-grow: 1;}#sk-container-id-7 div.sk-label:hover label.sk-toggleable__label {background-color: #d4ebff;}#sk-container-id-7 div.sk-serial::before {content: \"\";position: absolute;border-left: 1px solid gray;box-sizing: border-box;top: 0;bottom: 0;left: 50%;z-index: 0;}#sk-container-id-7 div.sk-serial {display: flex;flex-direction: column;align-items: center;background-color: white;padding-right: 0.2em;padding-left: 0.2em;position: relative;}#sk-container-id-7 div.sk-item {position: relative;z-index: 1;}#sk-container-id-7 div.sk-parallel {display: flex;align-items: stretch;justify-content: center;background-color: white;position: relative;}#sk-container-id-7 div.sk-item::before, #sk-container-id-7 div.sk-parallel-item::before {content: \"\";position: absolute;border-left: 1px solid gray;box-sizing: border-box;top: 0;bottom: 0;left: 50%;z-index: -1;}#sk-container-id-7 div.sk-parallel-item {display: flex;flex-direction: column;z-index: 1;position: relative;background-color: white;}#sk-container-id-7 div.sk-parallel-item:first-child::after {align-self: flex-end;width: 50%;}#sk-container-id-7 div.sk-parallel-item:last-child::after {align-self: flex-start;width: 50%;}#sk-container-id-7 div.sk-parallel-item:only-child::after {width: 0;}#sk-container-id-7 div.sk-dashed-wrapped {border: 1px dashed gray;margin: 0 0.4em 0.5em 0.4em;box-sizing: border-box;padding-bottom: 0.4em;background-color: white;}#sk-container-id-7 div.sk-label label {font-family: monospace;font-weight: bold;display: inline-block;line-height: 1.2em;}#sk-container-id-7 div.sk-label-container {text-align: center;}#sk-container-id-7 div.sk-container {/* jupyter's `normalize.less` sets `[hidden] { display: none; }` but bootstrap.min.css set `[hidden] { display: none !important; }` so we also need the `!important` here to be able to override the default hidden behavior on the sphinx rendered scikit-learn.org. See: https://github.com/scikit-learn/scikit-learn/issues/21755 */display: inline-block !important;position: relative;}#sk-container-id-7 div.sk-text-repr-fallback {display: none;}</style><div id=\"sk-container-id-7\" class=\"sk-top-container\"><div class=\"sk-text-repr-fallback\"><pre>GaussianNB()</pre><b>In a Jupyter environment, please rerun this cell to show the HTML representation or trust the notebook. <br />On GitHub, the HTML representation is unable to render, please try loading this page with nbviewer.org.</b></div><div class=\"sk-container\" hidden><div class=\"sk-item\"><div class=\"sk-estimator sk-toggleable\"><input class=\"sk-toggleable__control sk-hidden--visually\" id=\"sk-estimator-id-7\" type=\"checkbox\" checked><label for=\"sk-estimator-id-7\" class=\"sk-toggleable__label sk-toggleable__label-arrow\">GaussianNB</label><div class=\"sk-toggleable__content\"><pre>GaussianNB()</pre></div></div></div></div></div>"
      ],
      "text/plain": [
       "GaussianNB()"
      ]
     },
     "execution_count": 54,
     "metadata": {},
     "output_type": "execute_result"
    }
   ],
   "source": [
    "from sklearn.linear_model import LogisticRegression\n",
    "from sklearn.datasets import load_iris\n",
    "from sklearn.naive_bayes import GaussianNB\n",
    "from sklearn.pipeline import make_pipeline\n",
    "from sklearn.preprocessing import StandardScaler\n",
    "from sklearn.svm import SVC\n",
    "svm = make_pipeline(StandardScaler(), SVC(gamma='auto'))\n",
    "svm.fit(X_train, Y_train)\n",
    "LR = LogisticRegression()\n",
    "LR.fit(X_train,Y_train)\n",
    "gnb = GaussianNB()\n",
    "gnb.fit(X_train,Y_train)"
   ]
  },
  {
   "cell_type": "code",
   "execution_count": 56,
   "id": "0675b552-6ebe-44c3-a989-1d33d2616889",
   "metadata": {},
   "outputs": [
    {
     "name": "stdout",
     "output_type": "stream",
     "text": [
      "3633\n",
      "3633\n",
      "3633\n",
      "Logistic Regression Accuracy: 0.8260390861546931\n",
      "Logistic Regression Precision: 0.7728937728937729\n",
      "Logistic Regression Recall: 0.45376344086021503\n",
      "Naive Bayes Accuracy: 0.7475915221579962\n",
      "Naive Bayes Precision: 0.5058717253839206\n",
      "Naive Bayes Recall: 0.6021505376344086\n",
      "Support Vector Machine Accuracy: 0.8786127167630058\n",
      "Support Vector Machine Precision: 0.9054726368159204\n",
      "Support Vector Machine Recall: 0.5870967741935483\n"
     ]
    }
   ],
   "source": [
    "from sklearn import metrics\n",
    "predicted = LR.predict(X_test)\n",
    "gnb_predicted = gnb.predict(X_test)\n",
    "svm_predicted = svm.predict(X_test)\n",
    "print(len(predicted))\n",
    "print(len(gnb_predicted))\n",
    "print(len(svm_predicted))\n",
    "print(\"Logistic Regression Accuracy:\",metrics.accuracy_score(Y_test, predicted))\n",
    "print(\"Logistic Regression Precision:\",metrics.precision_score(Y_test, predicted))\n",
    "print(\"Logistic Regression Recall:\",metrics.recall_score(Y_test, predicted))\n",
    "print(\"Naive Bayes Accuracy:\",metrics.accuracy_score(Y_test, gnb_predicted))\n",
    "print(\"Naive Bayes Precision:\",metrics.precision_score(Y_test, gnb_predicted))\n",
    "print(\"Naive Bayes Recall:\",metrics.recall_score(Y_test, gnb_predicted))\n",
    "print(\"Support Vector Machine Accuracy:\",metrics.accuracy_score(Y_test, svm_predicted))\n",
    "print(\"Support Vector Machine Precision:\",metrics.precision_score(Y_test, svm_predicted))\n",
    "print(\"Support Vector Machine Recall:\",metrics.recall_score(Y_test, svm_predicted))"
   ]
  },
  {
   "cell_type": "code",
   "execution_count": 57,
   "id": "f1c6ab86-0109-448a-affa-686c10ad9a17",
   "metadata": {},
   "outputs": [],
   "source": [
    "from joblib import dump, load"
   ]
  },
  {
   "cell_type": "code",
   "execution_count": 58,
   "id": "ef1cdb23-f2ae-49f5-8e31-a1163f4f22ef",
   "metadata": {},
   "outputs": [
    {
     "data": {
      "text/plain": [
       "['SVM_big_dataset.joblib']"
      ]
     },
     "execution_count": 58,
     "metadata": {},
     "output_type": "execute_result"
    }
   ],
   "source": [
    "dump(svm, 'SVM_big_dataset.joblib')"
   ]
  },
  {
   "cell_type": "code",
   "execution_count": 177,
   "id": "9c57bc97-6a9f-4663-9a0f-1a1c696bee3f",
   "metadata": {},
   "outputs": [],
   "source": [
    "Z = 'I like pineapple'"
   ]
  },
  {
   "cell_type": "code",
   "execution_count": 178,
   "id": "48e7c6b5-0c59-4a81-95bf-a924ee6ad549",
   "metadata": {},
   "outputs": [],
   "source": [
    "Z_t = spacy_tokenizer(Z)"
   ]
  },
  {
   "cell_type": "code",
   "execution_count": 179,
   "id": "5827662e-ee22-4e9e-b13d-0a2d8e6ac436",
   "metadata": {},
   "outputs": [
    {
     "name": "stdout",
     "output_type": "stream",
     "text": [
      "i like pineapple\n"
     ]
    }
   ],
   "source": [
    "print(Z_t)"
   ]
  },
  {
   "cell_type": "code",
   "execution_count": 180,
   "id": "96e197d8-d61e-4cd5-a8db-c5a8512e9a2a",
   "metadata": {},
   "outputs": [],
   "source": [
    "Z_e = model.encode(Z_t)"
   ]
  },
  {
   "cell_type": "code",
   "execution_count": 160,
   "id": "8df54815-d1bb-4031-a41e-c81ce0c5e25f",
   "metadata": {},
   "outputs": [
    {
     "name": "stdout",
     "output_type": "stream",
     "text": [
      "[ 6.04108199e-02  7.26522952e-02 -1.13935418e-01 -5.11645805e-03\n",
      " -5.16066793e-03  6.46596998e-02  9.37615559e-02  3.18828896e-02\n",
      "  2.10768376e-02  4.61650640e-02  2.23534759e-02 -1.47739174e-02\n",
      " -2.38701422e-02  4.21287753e-02  7.44694918e-02  5.24458196e-03\n",
      " -3.75998579e-02  7.47641325e-02 -5.58120497e-02 -5.32653853e-02\n",
      " -2.39933878e-02  2.09420342e-02  9.83796641e-03 -1.12856831e-02\n",
      "  5.99561222e-02 -5.51436096e-02  3.39362733e-02 -1.43808043e-02\n",
      "  2.98099238e-02 -7.20173717e-02  6.50294572e-02 -9.37862322e-02\n",
      "  5.47353290e-02  3.10633201e-02 -1.09633781e-01  1.16090458e-02\n",
      "  1.80180501e-02  2.80515105e-02  2.77114868e-05  1.37383882e-02\n",
      "  5.15031554e-02 -1.15676232e-01 -5.82098588e-02  1.48304421e-02\n",
      " -1.92370657e-02 -1.18252756e-02 -8.97149593e-02 -1.94422193e-02\n",
      "  4.98235151e-02  5.58403321e-02 -6.50079921e-02  6.78175390e-02\n",
      " -5.20174131e-02  3.69712971e-02  5.95720932e-02  8.02378133e-02\n",
      "  1.22813936e-02  4.32213135e-02  5.85606843e-02 -8.45031738e-02\n",
      " -1.24439248e-03 -3.24971005e-02 -8.31220150e-02  3.74094956e-02\n",
      "  8.78141448e-02 -9.37526971e-02 -5.32671437e-02 -3.12401503e-02\n",
      " -2.98526306e-02  1.05581954e-02  1.01582125e-01  1.08586267e-01\n",
      "  4.02733684e-02 -3.94626372e-02  3.32948416e-02 -5.24185039e-02\n",
      " -3.67770419e-02 -1.41119147e-02  4.56059165e-03  5.71712330e-02\n",
      "  1.04107102e-02 -8.03134963e-02 -5.15159443e-02  1.91348996e-02\n",
      " -1.89369321e-02  4.31032889e-02 -8.22370686e-03  3.35971415e-02\n",
      "  1.84870679e-02  2.90111899e-02 -1.45347202e-02 -4.62017730e-02\n",
      " -2.97811124e-02 -5.63096330e-02  2.68649659e-03 -9.72045958e-03\n",
      " -2.05152184e-02 -2.79279184e-02 -4.40085307e-02  8.66952464e-02\n",
      " -8.74826871e-03  3.01254410e-02  3.11436448e-02 -4.78305854e-02\n",
      "  1.21138040e-02  5.73428907e-02 -3.79253482e-03  8.70954692e-02\n",
      " -1.63237732e-02 -2.41708811e-02  4.07408923e-03  7.78392237e-03\n",
      " -1.12974765e-02  3.49798799e-02  1.77169945e-02 -5.03626801e-02\n",
      " -8.73642564e-02  8.85906294e-02 -1.03907157e-02 -1.29827991e-01\n",
      "  3.55030820e-02  2.20925007e-02 -4.51446511e-02  4.78877351e-02\n",
      " -7.47471526e-02  5.15067242e-02  5.21085113e-02 -4.13395392e-33\n",
      "  2.26030443e-02 -8.17731991e-02  1.20923277e-02  4.41395603e-02\n",
      " -1.79000627e-02 -1.58730242e-02  4.75415215e-03  1.96939632e-02\n",
      " -2.19439026e-02 -2.99616288e-02 -1.64485292e-03 -9.64137092e-02\n",
      " -1.30421510e-02  1.07272223e-01  5.02897315e-02  6.80429395e-03\n",
      "  3.14935595e-02  2.03480311e-02 -2.42105462e-02  7.88347945e-02\n",
      " -3.28492424e-05 -2.41824854e-02 -1.37112418e-03  2.68071275e-02\n",
      "  7.78069496e-02  7.19092265e-02  5.46340412e-03 -1.87571999e-02\n",
      " -1.42755032e-01  2.24394188e-03 -6.23560697e-03  9.77924094e-03\n",
      " -8.61832798e-02  4.21162471e-02 -3.56356204e-02 -1.70918908e-02\n",
      " -9.70215648e-02 -6.34450291e-04 -1.76887140e-02  7.12436577e-03\n",
      "  3.68817933e-02 -1.89424504e-03 -8.53276402e-02 -3.77839133e-02\n",
      " -1.22734532e-02 -1.44633632e-02 -2.04087212e-03  6.54585660e-02\n",
      "  6.43232418e-03 -1.86119750e-02  8.08892697e-02 -3.10944244e-02\n",
      "  8.95092823e-03  1.81914959e-02 -4.27249521e-02  5.77051193e-02\n",
      " -3.00565676e-04 -8.49869102e-02  1.38142062e-02  1.22360131e-02\n",
      "  1.36244714e-01 -8.39613844e-03 -3.66749726e-02  3.57986167e-02\n",
      " -4.79402393e-02  1.84265338e-02 -1.12881241e-02 -4.80539445e-03\n",
      "  7.99758583e-02  2.26583350e-02 -5.39731719e-02 -9.29556880e-03\n",
      "  3.89132872e-02 -2.50250250e-02  2.38253288e-02 -4.35191169e-02\n",
      "  7.67810596e-03 -2.99261045e-02 -8.33018217e-04 -2.96222027e-02\n",
      " -9.30734724e-02 -5.56207672e-02  8.58860370e-03 -1.36409961e-02\n",
      " -1.15649309e-02  4.41009849e-02 -5.56622958e-03 -1.46450745e-02\n",
      " -6.09839894e-02  7.63677154e-03  1.38778836e-02 -9.39085055e-03\n",
      " -3.82031687e-02 -4.85736355e-02 -3.13913971e-02  2.70909736e-33\n",
      " -6.79524392e-02  6.21998422e-02 -4.65361662e-02  4.44673225e-02\n",
      " -1.78250335e-02  1.51124960e-02 -2.87691914e-02  8.28390755e-03\n",
      "  5.20871133e-02  3.80321257e-02 -2.65929699e-02  1.34861292e-02\n",
      " -1.50238322e-02  5.62067442e-02  1.09857190e-02  4.02173214e-02\n",
      "  7.38173127e-02 -1.01680250e-03 -1.62967015e-02 -1.16706025e-02\n",
      "  1.00443184e-01  5.76948747e-02  9.47819129e-02 -6.13799840e-02\n",
      "  1.55058065e-02 -1.75110456e-02  2.86606513e-02  1.59866270e-03\n",
      " -1.19557686e-01  1.26278149e-02  1.06085069e-01 -2.21046321e-02\n",
      "  3.55647877e-02  3.65300477e-03 -7.67572746e-02 -2.69237459e-02\n",
      "  5.29981218e-02 -4.63071000e-03  6.95873331e-03  1.35220587e-01\n",
      "  6.95534125e-02  4.18110974e-02 -4.22960706e-03  6.73328787e-02\n",
      " -1.46558890e-02  1.97932217e-02  7.08246380e-02  5.31524457e-02\n",
      " -1.73061434e-02  7.01383725e-02 -4.55154218e-02  3.66903953e-02\n",
      " -1.15464479e-01  7.82808214e-02 -6.73083141e-02 -4.85142954e-02\n",
      " -3.06537207e-02 -2.44727787e-02 -5.61128035e-02  2.11248640e-02\n",
      "  3.55924219e-02  5.17271794e-02 -2.16893828e-03  1.07319973e-01\n",
      "  1.72319263e-02  9.03004184e-02 -3.89250368e-02 -3.71325687e-02\n",
      "  2.56260242e-02  1.54889077e-02 -6.39743730e-02 -1.55680254e-02\n",
      "  6.13204055e-02 -2.71284897e-02 -9.32823420e-02  6.82923123e-02\n",
      " -5.98526075e-02  2.41493564e-02  8.36178381e-03 -1.15734544e-02\n",
      " -1.59581322e-02 -1.30800471e-01 -1.18101060e-01  5.32811694e-02\n",
      " -5.52379042e-02 -3.55479307e-02  3.96056585e-02 -8.72231126e-02\n",
      "  4.33718525e-02 -2.62957830e-02 -1.25086457e-02  5.89441247e-02\n",
      "  8.11094791e-03 -2.65124775e-02 -2.16562785e-02 -1.37040423e-08\n",
      " -1.00239567e-01 -9.21192300e-03 -5.11736125e-02  2.62203943e-02\n",
      " -3.81305665e-02  1.04498439e-01  3.53150070e-02 -5.78625128e-02\n",
      "  2.48361044e-02  1.81467496e-02  3.67635004e-02 -5.52154221e-02\n",
      "  2.77219117e-02 -4.32906672e-02  3.74407880e-02 -2.29391735e-03\n",
      "  2.82624438e-02  5.64728156e-02 -6.65942281e-02  6.38846010e-02\n",
      " -3.26679498e-02 -3.69298905e-02 -2.45127566e-02  1.13822304e-01\n",
      "  2.10737232e-02  1.56842340e-02 -4.49764542e-02  1.01855963e-01\n",
      "  3.33589613e-02  6.78732395e-02  2.57316753e-02  7.03208148e-02\n",
      "  4.04866189e-02 -4.13644984e-02  2.08613928e-03 -1.98177435e-02\n",
      "  1.25743868e-03  3.29219294e-03  7.75746927e-02  2.26298603e-03\n",
      " -1.06076803e-03  7.50082508e-02 -6.44097477e-02 -6.80517703e-02\n",
      " -1.10760160e-01 -4.41946350e-02  4.18976322e-02  4.05015843e-03\n",
      " -7.94358999e-02  7.75747292e-04  6.59405836e-04  8.14594477e-02\n",
      "  2.65813079e-02 -1.76471118e-02  7.68226162e-02 -2.38519497e-02\n",
      " -3.30015533e-02 -1.17159495e-02  4.99856251e-04 -1.68431755e-02\n",
      "  5.70656843e-02 -3.04579269e-02  1.10553816e-01 -9.31560919e-02]\n"
     ]
    }
   ],
   "source": [
    "print(Z_e)"
   ]
  },
  {
   "cell_type": "code",
   "execution_count": 67,
   "id": "11c6a295-c9fe-43a9-be13-a005c25b2a60",
   "metadata": {},
   "outputs": [
    {
     "name": "stdout",
     "output_type": "stream",
     "text": [
      "[-5.07641174e-02 -2.34419778e-02 -6.27336502e-02  6.63300753e-02\n",
      " -8.74017328e-02  2.07629558e-02  1.25100568e-01 -2.24401075e-02\n",
      " -5.38121723e-03  1.22526137e-03  2.17367485e-02 -1.02170497e-01\n",
      "  3.03389337e-02 -8.33508819e-02  4.19152156e-02 -4.08439711e-02\n",
      "  7.51090571e-02 -4.84239422e-02 -4.35671099e-02 -2.99307704e-02\n",
      " -1.18160278e-01 -6.63108975e-02 -5.00919372e-02  9.16730799e-03\n",
      " -7.40199210e-03  5.05779870e-03 -4.00118355e-04  4.60644886e-02\n",
      " -6.96590170e-02 -4.16165814e-02  6.35357923e-04 -1.29817901e-02\n",
      "  1.40212232e-03 -4.23484202e-03  3.39565463e-02  2.59733852e-02\n",
      " -4.44669127e-02  6.21782988e-03 -5.46718985e-02  3.26824412e-02\n",
      " -4.54000980e-02 -7.00153485e-02  5.37706874e-02  5.23056611e-02\n",
      " -3.17069478e-02  1.20585278e-01 -8.25774111e-03  2.90915500e-02\n",
      "  4.47845012e-02 -5.32956682e-02 -1.00350389e-02 -4.47632894e-02\n",
      "  8.88143405e-02  1.16144782e-02  6.93624886e-03  8.08993354e-02\n",
      " -1.63557064e-02  2.03879010e-02  2.57349033e-02 -5.88994361e-02\n",
      "  1.66438869e-03 -2.68531255e-02 -9.38124359e-02  1.38078886e-03\n",
      "  1.97859257e-02  4.39886143e-03  5.63977845e-02  6.00410514e-02\n",
      "  1.41327754e-02 -4.32178155e-02  1.27514324e-03  1.29950523e-01\n",
      "  3.60552594e-02 -7.13690296e-02  2.42308173e-02  4.04549390e-02\n",
      "  9.01343450e-02 -1.02474764e-01  1.51641080e-02  1.23142172e-02\n",
      " -4.36389744e-02 -4.82486635e-02  1.87597051e-02  5.47282631e-03\n",
      " -1.83502631e-03 -4.99256589e-02  3.60275432e-02 -3.62006463e-02\n",
      " -4.17418629e-02  1.83847863e-02 -1.03188902e-01  3.52126285e-02\n",
      "  7.96947479e-02 -9.17915069e-03 -3.25869769e-02  5.95101379e-02\n",
      "  2.03158055e-03  3.78404409e-02 -5.20328656e-02  1.18006364e-01\n",
      "  6.35314137e-02  4.62297052e-02 -7.25553855e-02  6.55799806e-02\n",
      "  3.57322488e-03 -6.95711188e-03 -3.53547744e-03 -1.82627060e-03\n",
      "  8.27981010e-02 -8.27824622e-02 -2.56121513e-02 -4.06983085e-02\n",
      "  1.25593087e-02 -4.03221473e-02 -1.35120805e-02 -5.20194210e-02\n",
      "  8.31258763e-03  1.98141988e-02 -2.27499506e-04 -5.49126901e-02\n",
      "  3.89507115e-02 -2.60012527e-03  1.07718930e-02 -2.71675307e-02\n",
      " -6.49949387e-02 -1.07363857e-01  1.92767791e-02 -2.19819115e-33\n",
      "  1.75095424e-02  2.34003626e-02 -8.40546414e-02  7.19274487e-03\n",
      "  6.38588816e-02 -4.89131510e-02 -8.91004037e-03  2.33398825e-02\n",
      " -4.16520797e-02  7.32297525e-02 -4.38415110e-02  3.86059023e-02\n",
      " -3.52152474e-02  5.50418086e-02  1.00815147e-01 -5.85250072e-02\n",
      "  9.96639431e-02  5.49613684e-03 -5.45853861e-02  3.53568513e-03\n",
      " -1.65355146e-01  9.15841684e-02  5.80946393e-02 -4.21119630e-02\n",
      " -1.06421812e-02  5.17734438e-02 -2.88884342e-03 -3.20649557e-02\n",
      " -3.50208245e-02  4.44736071e-02 -5.34702018e-02  5.31644328e-03\n",
      "  4.36646268e-02  4.68839779e-02  2.77248137e-02 -8.90330691e-03\n",
      " -7.69021809e-02  2.06397213e-02  7.66280070e-02 -2.91238129e-02\n",
      "  9.23534632e-02 -1.20379226e-02  3.27522447e-03  6.91727996e-02\n",
      "  1.09283626e-02  6.90733269e-02 -3.49602401e-02  8.90626609e-02\n",
      " -3.13162766e-02  1.91450957e-02 -9.68766212e-03 -7.42271310e-03\n",
      " -5.54258116e-02 -5.06628640e-02 -5.63911535e-02 -7.45657310e-02\n",
      " -5.78528503e-03  1.98250357e-02  2.33512763e-02  1.92426033e-02\n",
      "  1.44281192e-02  1.77263338e-02 -3.45480628e-03  2.45421659e-02\n",
      " -9.57928374e-02  4.29086015e-02  4.18493859e-02 -5.96892647e-02\n",
      "  4.51535024e-02  2.40872451e-03 -1.26528675e-02  5.20011634e-02\n",
      "  2.60287710e-02  1.58775076e-02  3.04582268e-02 -1.53396260e-02\n",
      "  6.31965995e-02  8.07938874e-02 -3.96758988e-02  1.57412551e-02\n",
      " -8.83794390e-03 -2.60980129e-02 -5.02137654e-02  1.34250764e-02\n",
      "  4.09572152e-04 -7.53586292e-02 -2.06587818e-02  3.36592123e-02\n",
      "  4.04933020e-02  7.89529737e-03 -1.03853062e-01 -5.56261018e-02\n",
      "  4.28404547e-02 -1.64184980e-02 -4.78241965e-02  3.09723990e-33\n",
      " -1.86522324e-02  8.64125602e-03 -6.87115043e-02  6.54598549e-02\n",
      "  4.63346131e-02 -5.15742134e-03  3.66269902e-04 -3.07262409e-03\n",
      "  4.02910598e-02  1.36562973e-01  6.12352379e-02 -8.35976154e-02\n",
      " -6.87422529e-02 -9.09959823e-02  6.60463050e-03  1.27852950e-02\n",
      "  1.19915279e-02  2.92160977e-02  2.55537666e-02 -1.21222436e-02\n",
      " -5.66724539e-02 -8.31488743e-02 -6.41937852e-02  4.10197601e-02\n",
      " -7.32904002e-02  2.87071634e-02  3.66055779e-03 -8.74168053e-03\n",
      " -7.76754692e-02  4.01830040e-02 -2.75814980e-02 -8.38703290e-02\n",
      " -5.50456084e-02  6.33135065e-02 -4.77043763e-02  8.25672448e-02\n",
      "  9.46971253e-02  3.43041718e-02 -2.11477699e-03 -1.56190218e-02\n",
      "  1.13192290e-01  4.73930780e-03 -2.24955361e-02  1.78642899e-01\n",
      " -2.18677372e-02  4.26385142e-02 -3.72751355e-02  3.67275402e-02\n",
      "  2.31796633e-02  5.26983999e-02 -6.99684769e-03 -8.32406357e-02\n",
      " -1.74299423e-02  2.90949773e-02  2.06498075e-02 -9.70945954e-02\n",
      " -1.06231133e-02 -3.70571646e-03  2.44608596e-02 -1.82280838e-02\n",
      " -3.69430915e-03  5.26372604e-02 -5.58295026e-02  1.30191147e-01\n",
      "  4.42974120e-02  4.89822328e-02 -3.51847783e-02 -3.51080261e-02\n",
      "  1.24481292e-02  3.31415795e-02 -6.13576686e-03 -2.12846715e-02\n",
      "  4.93220463e-02 -6.44345134e-02 -4.64750454e-02 -8.03861544e-02\n",
      " -4.96964753e-02 -2.66018268e-02  6.42986298e-02  5.89454882e-02\n",
      " -1.31719178e-02 -1.71618331e-02 -1.84943508e-02  1.00637399e-01\n",
      "  5.22265956e-02  5.36933653e-02  2.52958890e-02  1.90243758e-02\n",
      "  1.43972524e-02 -2.84169503e-02  9.98575985e-03  4.66837958e-02\n",
      "  1.12170577e-01  3.78154628e-02 -6.51179776e-02 -1.21198402e-08\n",
      "  8.34518764e-03  1.95582937e-02  4.96547893e-02 -3.11104935e-02\n",
      "  1.77477635e-02 -3.30450051e-02 -2.10490134e-02  4.99226786e-02\n",
      " -8.22664518e-03  2.69989744e-02  3.06296144e-02  5.31743877e-02\n",
      "  1.02075599e-01  4.49417941e-02  1.81170050e-02 -6.41032979e-02\n",
      "  3.09210550e-02  9.40774977e-02 -4.02034745e-02  5.21017648e-02\n",
      "  2.07918920e-02  3.54129784e-02  1.22354351e-01  2.81237476e-02\n",
      "  2.39302758e-02 -8.44242517e-03 -3.50876153e-02  7.44448751e-02\n",
      "  4.84938659e-02  5.94323408e-03 -3.20064882e-03  3.46792266e-02\n",
      " -1.07620228e-02  1.46341482e-02  1.60922725e-02 -5.88753335e-02\n",
      " -6.52435720e-02  3.01582869e-02 -2.41291653e-02 -5.90740256e-02\n",
      " -4.47425768e-02 -6.92573264e-02  2.04079021e-02 -1.04227830e-02\n",
      " -7.18268976e-02 -5.27992584e-02 -1.11489110e-02  4.11289185e-02\n",
      " -1.64572448e-02  1.65947322e-02 -3.08843739e-02  9.08579901e-02\n",
      "  4.33955453e-02  2.96952520e-02 -1.77168027e-02 -4.48279195e-02\n",
      "  3.59292626e-02  2.02521496e-03  3.32340710e-02  2.78967544e-02\n",
      "  5.28196767e-02 -1.09418121e-03 -9.49486420e-02  5.08189201e-02]\n"
     ]
    }
   ],
   "source": [
    "print(X_test[0])"
   ]
  },
  {
   "cell_type": "code",
   "execution_count": 1,
   "id": "714918be-e1cb-46eb-9453-27108a16a549",
   "metadata": {},
   "outputs": [
    {
     "ename": "NameError",
     "evalue": "name 'Z_e' is not defined",
     "output_type": "error",
     "traceback": [
      "\u001b[1;31m---------------------------------------------------------------------------\u001b[0m",
      "\u001b[1;31mNameError\u001b[0m                                 Traceback (most recent call last)",
      "Cell \u001b[1;32mIn[1], line 1\u001b[0m\n\u001b[1;32m----> 1\u001b[0m X_test_reshaped \u001b[38;5;241m=\u001b[39m \u001b[43mZ_e\u001b[49m\u001b[38;5;241m.\u001b[39mreshape(\u001b[38;5;241m1\u001b[39m, \u001b[38;5;241m-\u001b[39m\u001b[38;5;241m1\u001b[39m)  \u001b[38;5;66;03m# or reshape(-1, 1) if you want a column vector\u001b[39;00m\n\u001b[0;32m      3\u001b[0m \u001b[38;5;66;03m# Predict the class label for the reshaped input\u001b[39;00m\n\u001b[0;32m      4\u001b[0m predicted_label \u001b[38;5;241m=\u001b[39m LR\u001b[38;5;241m.\u001b[39mpredict(X_test_reshaped)\n",
      "\u001b[1;31mNameError\u001b[0m: name 'Z_e' is not defined"
     ]
    }
   ],
   "source": [
    "X_test_reshaped = Z_e.reshape(1, -1)  # or reshape(-1, 1) if you want a column vector\n",
    "\n",
    "# Predict the class label for the reshaped input\n",
    "predicted_label = LR.predict(X_test_reshaped)\n",
    "print(predicted_label)"
   ]
  },
  {
   "cell_type": "code",
   "execution_count": null,
   "id": "8acc714d-8a1b-4198-a2c9-9fcd4d9731a0",
   "metadata": {},
   "outputs": [],
   "source": []
  },
  {
   "cell_type": "code",
   "execution_count": null,
   "id": "4dea86f5-dd12-43ba-97f9-ea737c1b07ab",
   "metadata": {},
   "outputs": [],
   "source": []
  }
 ],
 "metadata": {
  "kernelspec": {
   "display_name": "Python 3 (ipykernel)",
   "language": "python",
   "name": "python3"
  },
  "language_info": {
   "codemirror_mode": {
    "name": "ipython",
    "version": 3
   },
   "file_extension": ".py",
   "mimetype": "text/x-python",
   "name": "python",
   "nbconvert_exporter": "python",
   "pygments_lexer": "ipython3",
   "version": "3.11.4"
  }
 },
 "nbformat": 4,
 "nbformat_minor": 5
}
